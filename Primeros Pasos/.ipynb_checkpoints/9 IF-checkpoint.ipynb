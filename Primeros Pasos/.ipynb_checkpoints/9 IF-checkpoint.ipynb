{
 "cells": [
  {
   "cell_type": "markdown",
   "metadata": {},
   "source": [
    "# Condicional IF"
   ]
  },
  {
   "cell_type": "code",
   "execution_count": 10,
   "metadata": {},
   "outputs": [],
   "source": [
    "clave = \"password\"\n"
   ]
  },
  {
   "cell_type": "code",
   "execution_count": 14,
   "metadata": {
    "tags": []
   },
   "outputs": [
    {
     "output_type": "stream",
     "name": "stdout",
     "text": "Imprimir porque fue verdadero\n"
    }
   ],
   "source": [
    "if True:\n",
    "    print (\"Imprimir porque fue verdadero\")"
   ]
  },
  {
   "cell_type": "code",
   "execution_count": 19,
   "metadata": {
    "tags": []
   },
   "outputs": [
    {
     "output_type": "stream",
     "name": "stdout",
     "text": "El valor SI es 10\n"
    }
   ],
   "source": [
    "valor = 10\n",
    "if valor == 10:\n",
    "    print('El valor SI es 10')\n",
    "if valor == 20:\n",
    "    print('El valor NO es 10')"
   ]
  },
  {
   "cell_type": "code",
   "execution_count": 21,
   "metadata": {},
   "outputs": [
    {
     "output_type": "execute_result",
     "data": {
      "text/plain": "'password'"
     },
     "metadata": {},
     "execution_count": 21
    }
   ],
   "source": [
    "clave"
   ]
  },
  {
   "cell_type": "code",
   "execution_count": 22,
   "metadata": {
    "tags": []
   },
   "outputs": [
    {
     "output_type": "stream",
     "name": "stdout",
     "text": "Entrando\n"
    }
   ],
   "source": [
    "if clave == 'password':\n",
    "        print('Entrando')"
   ]
  },
  {
   "cell_type": "code",
   "execution_count": 23,
   "metadata": {
    "tags": []
   },
   "outputs": [
    {
     "output_type": "stream",
     "name": "stdout",
     "text": "Entrando\n"
    }
   ],
   "source": [
    "if clave == 'password' or clave == 'PASSWORD':\n",
    "    print ('Entrando')"
   ]
  },
  {
   "cell_type": "code",
   "execution_count": 25,
   "metadata": {},
   "outputs": [],
   "source": [
    "usuario = 'David'"
   ]
  },
  {
   "cell_type": "code",
   "execution_count": 29,
   "metadata": {
    "tags": []
   },
   "outputs": [
    {
     "output_type": "stream",
     "name": "stdout",
     "text": "Accesso denegado\n"
    }
   ],
   "source": [
    "getUser=input('Ingrese el usuario:')\n",
    "getPass=input('Ingrese la contrasenia:')\n",
    "accesso=getUser+getPass\n",
    "if getUser == 'David' and getPass == 'password':\n",
    "    print('Acceso concedido')\n",
    "else:\n",
    "    print ('Accesso denegado')"
   ]
  },
  {
   "cell_type": "code",
   "execution_count": null,
   "metadata": {},
   "outputs": [],
   "source": []
  }
 ],
 "metadata": {
  "language_info": {
   "codemirror_mode": {
    "name": "ipython",
    "version": 3
   },
   "file_extension": ".py",
   "mimetype": "text/x-python",
   "name": "python",
   "nbconvert_exporter": "python",
   "pygments_lexer": "ipython3",
   "version": 3
  },
  "orig_nbformat": 2,
  "kernelspec": {
   "name": "python_defaultSpec_1609300974224",
   "display_name": "Python 3.8.6 64-bit"
  }
 },
 "nbformat": 4,
 "nbformat_minor": 2
}