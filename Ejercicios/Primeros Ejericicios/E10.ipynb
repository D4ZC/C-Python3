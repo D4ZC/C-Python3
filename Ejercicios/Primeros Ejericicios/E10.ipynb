{
 "cells": [
  {
   "cell_type": "markdown",
   "metadata": {},
   "source": [
    "Una panadería vende barras de pan a 3.49€ cada una. El pan que no es el día tiene un descuento del 60%. Escribir un programa que comience leyendo el número de barras vendidas que no son del día. Después el programa debe mostrar el precio habitual de una barra de pan, el descuento que se le hace por no ser fresca y el coste final total.\n",
    "\n",
    "\n"
   ]
  },
  {
   "cell_type": "code",
   "execution_count": 14,
   "metadata": {
    "tags": []
   },
   "outputs": [
    {
     "output_type": "stream",
     "name": "stdout",
     "text": "El total de barras rancias vendidas hoy son:5\n Siendo el precio habitual de:  3.49 \n Con el descuento del 60 porciento queda en : 1.396\n"
    }
   ],
   "source": [
    "pan = 3.49\n",
    "panRancio = pan *.40\n",
    "barrasRancias = input('Cuantas barras rancias se vendieron hoy: ')\n",
    "print('El total de barras rancias vendidas hoy son:' + barrasRancias + '\\n Siendo el precio habitual de: ', pan, '\\n Con el descuento del 60 porciento queda en :',round(panRancio,3) )"
   ]
  },
  {
   "cell_type": "code",
   "execution_count": 2,
   "metadata": {},
   "outputs": [
    {
     "output_type": "execute_result",
     "data": {
      "text/plain": "1.3960000000000001"
     },
     "metadata": {},
     "execution_count": 2
    }
   ],
   "source": [
    "panRancio"
   ]
  }
 ],
 "metadata": {
  "language_info": {
   "codemirror_mode": {
    "name": "ipython",
    "version": 3
   },
   "file_extension": ".py",
   "mimetype": "text/x-python",
   "name": "python",
   "nbconvert_exporter": "python",
   "pygments_lexer": "ipython3",
   "version": 3
  },
  "orig_nbformat": 2,
  "kernelspec": {
   "name": "python_defaultSpec_1609998671038",
   "display_name": "Python 3.8.7 64-bit"
  }
 },
 "nbformat": 4,
 "nbformat_minor": 2
}