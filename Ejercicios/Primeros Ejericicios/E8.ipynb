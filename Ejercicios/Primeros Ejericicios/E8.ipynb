{
 "cells": [
  {
   "cell_type": "markdown",
   "metadata": {},
   "source": [
    "Escribir un programa que pida al usuario dos números enteros y muestre por pantalla la <n > entre <m > da un cociente < c> y un resto <r > donde < n> y < m> son los números introducidos por el usuario, y < c> y <r > son el cociente y el resto de la división entera respectivamente."
   ]
  },
  {
   "cell_type": "code",
   "execution_count": 18,
   "metadata": {
    "tags": []
   },
   "outputs": [
    {
     "output_type": "stream",
     "name": "stdout",
     "text": "Primer numero: 27Segundo numero: 4 El cociente es:  6  El resto es:  3\n"
    }
   ],
   "source": [
    "nE1 = int(input(\"Ingrese el dividendo:\"))\n",
    "nE2 = int(input(\"Ingrese el divisor\"))\n",
    "cociente = (nE1/nE2)\n",
    "resto = (nE1%nE2)\n",
    "print(\"Primer numero: \" + str(nE1) + \"Segundo numero: \" + str(nE2) + \" El cociente es: \",str(int(cociente)), \" El resto es: \", resto)"
   ]
  },
  {
   "cell_type": "code",
   "execution_count": null,
   "metadata": {},
   "outputs": [],
   "source": []
  }
 ],
 "metadata": {
  "language_info": {
   "codemirror_mode": {
    "name": "ipython",
    "version": 3
   },
   "file_extension": ".py",
   "mimetype": "text/x-python",
   "name": "python",
   "nbconvert_exporter": "python",
   "pygments_lexer": "ipython3",
   "version": 3
  },
  "orig_nbformat": 2,
  "kernelspec": {
   "name": "python_defaultSpec_1609411438639",
   "display_name": "Python 3.8.6 64-bit"
  }
 },
 "nbformat": 4,
 "nbformat_minor": 2
}