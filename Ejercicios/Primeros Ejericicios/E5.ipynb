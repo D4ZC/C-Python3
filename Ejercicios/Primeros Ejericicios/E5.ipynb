{
 "cells": [
  {
   "cell_type": "markdown",
   "metadata": {},
   "source": [
    "Escribir un programa que pregunte al usuario por el número de horas trabajadas y el coste por hora. Después debe mostrar por pantalla la paga que le corresponde.\n",
    "\n",
    "\n"
   ]
  },
  {
   "cell_type": "code",
   "execution_count": 4,
   "metadata": {
    "tags": []
   },
   "outputs": [
    {
     "output_type": "stream",
     "name": "stdout",
     "text": "Tu paga es de: 240.0\n"
    }
   ],
   "source": [
    "horasTrabajadas = float(input(\"Ingrese el numero de horas trabajadas:\"))\n",
    "costeHora = float(input(\"Ingrese el costo por hora:\"))\n",
    "paga = round(horasTrabajadas*costeHora, 3) #Round redondea la canditad indicada en el tercer parametro\n",
    "print(\"Tu paga es de: \" + str(paga)) #Manda a imprimir paga como una cadena"
   ]
  },
  {
   "cell_type": "code",
   "execution_count": null,
   "metadata": {},
   "outputs": [],
   "source": []
  }
 ],
 "metadata": {
  "language_info": {
   "codemirror_mode": {
    "name": "ipython",
    "version": 3
   },
   "file_extension": ".py",
   "mimetype": "text/x-python",
   "name": "python",
   "nbconvert_exporter": "python",
   "pygments_lexer": "ipython3",
   "version": 3
  },
  "orig_nbformat": 2,
  "kernelspec": {
   "name": "python_defaultSpec_1609409640317",
   "display_name": "Python 3.8.6 64-bit"
  }
 },
 "nbformat": 4,
 "nbformat_minor": 2
}