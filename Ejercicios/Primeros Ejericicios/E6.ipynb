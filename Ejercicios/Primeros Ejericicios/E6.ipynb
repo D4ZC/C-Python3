{
 "cells": [
  {
   "cell_type": "markdown",
   "metadata": {},
   "source": [
    "Escribir un programa que lea un entero positivo, N, introducido por el usuario y después muestre en pantalla la suma de todos los enteros desde 1 hasta N . La suma de los N primeros enteros positivos puede ser calculada de la siguiente forma: suma = (((n(n+1))))/2"
   ]
  },
  {
   "cell_type": "code",
   "execution_count": 21,
   "metadata": {
    "tags": []
   },
   "outputs": [
    {
     "output_type": "stream",
     "name": "stdout",
     "text": "La sumatoria de los primeros numeros enteros desde 1 hasta 5 es: 15.0\n"
    }
   ],
   "source": [
    "enteroPos = int (input(\"Ingrese un entero positivo:\"))\n",
    "sumatoria = enteroPos * (enteroPos+1) / 2\n",
    "print(\"La sumatoria de los primeros numeros enteros desde 1 hasta \" + str(enteroPos) + \" es: \" + str(sumatoria))"
   ]
  },
  {
   "cell_type": "code",
   "execution_count": null,
   "metadata": {},
   "outputs": [],
   "source": []
  }
 ],
 "metadata": {
  "language_info": {
   "codemirror_mode": {
    "name": "ipython",
    "version": 3
   },
   "file_extension": ".py",
   "mimetype": "text/x-python",
   "name": "python",
   "nbconvert_exporter": "python",
   "pygments_lexer": "ipython3",
   "version": 3
  },
  "orig_nbformat": 2,
  "kernelspec": {
   "name": "python_defaultSpec_1609410035642",
   "display_name": "Python 3.8.6 64-bit"
  }
 },
 "nbformat": 4,
 "nbformat_minor": 2
}