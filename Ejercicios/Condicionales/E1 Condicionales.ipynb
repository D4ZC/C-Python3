{
 "cells": [
  {
   "cell_type": "markdown",
   "metadata": {},
   "source": [
    "Escribir un programa que pregunte al usuario su edad y muestre por pantalla si es mayor de edad o no."
   ]
  },
  {
   "cell_type": "code",
   "execution_count": 5,
   "metadata": {
    "tags": []
   },
   "outputs": [
    {
     "output_type": "stream",
     "name": "stdout",
     "text": "No eres mayor de edad\n"
    }
   ],
   "source": [
    "edad = int(input(\"Ingresa tu edad: \"))\n",
    "if edad > 18:\n",
    "    print(\"Eres mayor de edad\")\n",
    "else:\n",
    "    print(\"No eres mayor de edad\")"
   ]
  },
  {
   "cell_type": "markdown",
   "metadata": {},
   "source": [
    "Escribir un programa que almacene la cadena de caracteres contraseña en una variable, pregunte al usuario por la contraseña e imprima por pantalla si la contraseña introducida por el usuario coincide con la guardada en la variable sin tener en cuenta mayúsculas y minúsculas."
   ]
  },
  {
   "cell_type": "code",
   "execution_count": 8,
   "metadata": {
    "tags": []
   },
   "outputs": [
    {
     "output_type": "stream",
     "name": "stdout",
     "text": "Acceso concedido\n"
    }
   ],
   "source": [
    "key = \"pass\"\n",
    "password = input(\"Ingresa una contrasenia: \")\n",
    "if key == password.lower(): #Hace la excepcion si mayuscula o miniscula\n",
    "    print(\"Acceso concedido\")\n",
    "else:\n",
    "    print(\"Acceso denegado\")"
   ]
  },
  {
   "cell_type": "markdown",
   "metadata": {},
   "source": [
    "Escribir un programa que pida al usuario dos números y muestre por pantalla su división. Si el divisor es cero el programa debe mostrar un error."
   ]
  },
  {
   "cell_type": "code",
   "execution_count": 12,
   "metadata": {
    "tags": []
   },
   "outputs": [
    {
     "output_type": "stream",
     "name": "stdout",
     "text": "Error, el divisor no puede ser 0\n"
    }
   ],
   "source": [
    "num1 = int(input('Ingrese el primer numero:'))\n",
    "num2 = int(input('Ingrese el segundo numero:'))\n",
    "\n",
    "if num1 == 0:\n",
    "    print('Error, el divisor no puede ser 0')\n",
    "else:\n",
    "    print(num1/num2)"
   ]
  },
  {
   "cell_type": "markdown",
   "metadata": {},
   "source": [
    "Escribir un programa que pida al usuario un número entero y muestre por pantalla si es par o impar."
   ]
  },
  {
   "cell_type": "code",
   "execution_count": 20,
   "metadata": {
    "tags": []
   },
   "outputs": [
    {
     "output_type": "stream",
     "name": "stdout",
     "text": "El numero es impar\n"
    }
   ],
   "source": [
    "numEntero = int(input('Ingresa un numero para saber si es entero o no: '))\n",
    "if numEntero % 2 == 0:\n",
    "    print('El numero es par')\n",
    "else:\n",
    "    print('El numero es impar')"
   ]
  },
  {
   "cell_type": "markdown",
   "metadata": {},
   "source": [
    "Para tributar un determinado impuesto se debe ser mayor de 16 años y tener unos ingresos iguales o superiores a 1000 € mensuales. Escribir un programa que pregunte al usuario su edad y sus ingresos mensuales y muestre por pantalla si el usuario tiene que tributar o no."
   ]
  },
  {
   "cell_type": "code",
   "execution_count": 10,
   "metadata": {
    "tags": []
   },
   "outputs": [
    {
     "output_type": "stream",
     "name": "stdout",
     "text": "Debes de tributar\n"
    }
   ],
   "source": [
    "ingresosSuperiores = int(1000)\n",
    "edadMayor = int(16)\n",
    "\n",
    "edad = int(input('Cual es su edad: '))\n",
    "ingresos = int(input('Cuales son sus ingresos: '))\n",
    "\n",
    "if edad >= edadMayor and ingresos >= ingresosSuperiores:\n",
    "    print('Debes de tributar')\n",
    "else:\n",
    "    print('Te salvaste')\n",
    "\n"
   ]
  },
  {
   "cell_type": "markdown",
   "metadata": {},
   "source": [
    "Los alumnos de un curso se han dividido en dos grupos A y B de acuerdo al sexo y el nombre. El grupo A esta formado por las mujeres con un nombre anterior a la M y los hombres con un nombre posterior a la N y el grupo B por el resto. Escribir un programa que pregunte al usuario su nombre y sexo, y muestre por pantalla el grupo que le corresponde."
   ]
  },
  {
   "cell_type": "code",
   "execution_count": 15,
   "metadata": {
    "tags": []
   },
   "outputs": [
    {
     "output_type": "stream",
     "name": "stdout",
     "text": "Grupo A\n"
    }
   ],
   "source": [
    "sexo = input(\"Cual es tu sexo (F o M)\")\n",
    "nombre = input(\"Cual es tu nombre:\")\n",
    "\n",
    "if sexo.lower() == 'f' and nombre.lower() <= 'm':\n",
    "    print('Grupo A')\n",
    "elif sexo.lower() == 'm' and nombre.lower() >= 'n':\n",
    "    print('Grupo A')\n",
    "else:\n",
    "    print('Grupo B')\n",
    "\n"
   ]
  },
  {
   "cell_type": "markdown",
   "metadata": {},
   "source": [
    "Los tramos impositivos para la declaración de la renta en un determinado país son los siguientes:"
   ]
  },
  {
   "cell_type": "code",
   "execution_count": 1,
   "metadata": {
    "tags": []
   },
   "outputs": [
    {
     "output_type": "stream",
     "name": "stdout",
     "text": "5%\n"
    }
   ],
   "source": [
    "rentaAnual = int(input('Ingrese su renta anual: '))\n",
    "\n",
    "if rentaAnual < 10000:\n",
    "    print('5%')\n",
    "elif rentaAnual >= 10000 and rentaAnual <= 20000:\n",
    "    print('15%')\n",
    "elif rentaAnual >= 20000 and rentaAnual <= 35000:\n",
    "    print('20%')\n",
    "elif rentaAnual >= 35000 and rentaAnual <= 60000:\n",
    "    print('30%')\n",
    "else:\n",
    "    print ('45%')"
   ]
  },
  {
   "cell_type": "markdown",
   "metadata": {},
   "source": [
    "Escribir un programa para una empresa que tiene salas de juegos para todas las edades y quiere calcular de forma automática el precio que debe cobrar a sus clientes por entrar. El programa debe preguntar al usuario la edad del cliente y mostrar el precio de la entrada. Si el cliente es menor de 4 años puede entrar gratis, si tiene entre 4 y 18 años debe pagar 5€ y si es mayor de 18 años, 10€."
   ]
  },
  {
   "cell_type": "code",
   "execution_count": 1,
   "metadata": {
    "tags": []
   },
   "outputs": [
    {
     "output_type": "stream",
     "name": "stdout",
     "text": "Pagas 5 krnal\n"
    }
   ],
   "source": [
    "edad = int(input(\"Cual es tu edad: \"))\n",
    "if edad < 4:\n",
    "    print('De a grapa')\n",
    "elif edad >= 4 and edad < 18:\n",
    "    print('Pagas 5 krnal')\n",
    "else:\n",
    "    print('Pagas 10 vato loco')\n"
   ]
  },
  {
   "cell_type": "code",
   "execution_count": null,
   "metadata": {},
   "outputs": [],
   "source": []
  }
 ],
 "metadata": {
  "language_info": {
   "codemirror_mode": {
    "name": "ipython",
    "version": 3
   },
   "file_extension": ".py",
   "mimetype": "text/x-python",
   "name": "python",
   "nbconvert_exporter": "python",
   "pygments_lexer": "ipython3",
   "version": 3
  },
  "orig_nbformat": 2,
  "kernelspec": {
   "name": "python_defaultSpec_1611637967689",
   "display_name": "Python 3.8.7 64-bit"
  }
 },
 "nbformat": 4,
 "nbformat_minor": 2
}