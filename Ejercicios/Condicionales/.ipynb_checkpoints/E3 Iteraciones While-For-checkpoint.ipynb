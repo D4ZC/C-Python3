{
 "cells": [
  {
   "cell_type": "markdown",
   "metadata": {},
   "source": [
    "WHILE"
   ]
  },
  {
   "cell_type": "code",
   "execution_count": 2,
   "metadata": {
    "tags": []
   },
   "outputs": [
    {
     "output_type": "stream",
     "name": "stdout",
     "text": "Estoy iterando van =  1\nEstoy iterando van =  2\nEstoy iterando van =  3\nEstoy iterando van =  4\n"
    }
   ],
   "source": [
    "iteracion = 0\n",
    "while iteracion <=3:\n",
    "    iteracion +=1\n",
    "    print ('Estoy iterando', 'van = ', iteracion)\n",
    "    "
   ]
  },
  {
   "cell_type": "markdown",
   "metadata": {},
   "source": [
    "ELSE"
   ]
  },
  {
   "cell_type": "code",
   "execution_count": 15,
   "metadata": {
    "tags": []
   },
   "outputs": [
    {
     "output_type": "stream",
     "name": "stdout",
     "text": "Estoy iterando van =  4\nImprimo esto porque se termino el While y ahora es Else y el iterador es 4\n"
    }
   ],
   "source": [
    "iteracion = 0\n",
    "while iteracion <=3:\n",
    "    iteracion +=1\n",
    "    if(iteracion==4):\n",
    "        print ('Estoy iterando', 'van = ',iteracion)\n",
    "else:\n",
    "    print('Imprimo esto porque se termino el While y ahora es Else','y el iterador es', iteracion)\n"
   ]
  },
  {
   "cell_type": "code",
   "execution_count": 21,
   "metadata": {
    "tags": []
   },
   "outputs": [
    {
     "output_type": "stream",
     "name": "stdout",
     "text": "Elige tu propio camino\n ¿Que camino quieres elegir?\n    Selecciona una opcion\n    1.- Saludame\n    2.- Multiplicar\n    3.- Vamonos, ya se multiplicar \nHasta la proxima....\n"
    }
   ],
   "source": [
    "print ('Elige tu propio camino')\n",
    "inicio = input(\"Escribe 'C' para comenzar\")\n",
    "if (inicio == 'C'):\n",
    "    print(\"\"\" ¿Que camino quieres elegir?\n",
    "    Selecciona una opcion\n",
    "    1.- Saludame\n",
    "    2.- Multiplicar\n",
    "    3.- Vamonos, ya se multiplicar \"\"\")\n",
    "opcion = input()\n",
    "if opcion == '1':\n",
    "    print('Hola mugroso')\n",
    "elif opcion == '2':\n",
    "    numero1 = float(input('Ingresa el primer numero'))\n",
    "    numero2 = float(input('Ingresa el segundo numero'))\n",
    "    resultado = numero1*numero2\n",
    "    print('El resultado de tu multiplicacion es',resultado)\n",
    "elif opcion == '3':\n",
    "    print('Hasta la proxima....')\n",
    "else:\n",
    "    print('Opcion invalida')"
   ]
  },
  {
   "cell_type": "code",
   "execution_count": null,
   "metadata": {},
   "outputs": [],
   "source": []
  }
 ],
 "metadata": {
  "language_info": {
   "codemirror_mode": {
    "name": "ipython",
    "version": 3
   },
   "file_extension": ".py",
   "mimetype": "text/x-python",
   "name": "python",
   "nbconvert_exporter": "python",
   "pygments_lexer": "ipython3",
   "version": 3
  },
  "orig_nbformat": 2,
  "kernelspec": {
   "name": "python_defaultSpec_1613534556747",
   "display_name": "Python 3.9.1 64-bit"
  }
 },
 "nbformat": 4,
 "nbformat_minor": 2
}