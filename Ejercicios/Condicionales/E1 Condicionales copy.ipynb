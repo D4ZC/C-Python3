{
 "cells": [
  {
   "cell_type": "markdown",
   "metadata": {},
   "source": [
    "E1 Escribir un programa que pida al usuario una palabra y la muestre por pantalla 10 veces."
   ]
  },
  {
   "cell_type": "code",
   "execution_count": 22,
   "metadata": {
    "tags": []
   },
   "outputs": [
    {
     "output_type": "stream",
     "name": "stdout",
     "text": "David\nDavid\nDavid\nDavid\nDavid\nDavid\nDavid\nDavid\nDavid\nDavid\n"
    }
   ],
   "source": [
    "palabra = input('Ingresa una palabra')\n",
    "for i in range (10):\n",
    "    print(palabra)"
   ]
  },
  {
   "cell_type": "markdown",
   "metadata": {},
   "source": [
    "Escribir un programa que pregunte al usuario su edad y muestre por pantalla todos los años que ha cumplido (desde 1 hasta su edad)."
   ]
  },
  {
   "cell_type": "code",
   "execution_count": 35,
   "metadata": {
    "tags": []
   },
   "outputs": [
    {
     "output_type": "stream",
     "name": "stdout",
     "text": "haz cumplido 1 anios\nhaz cumplido 2 anios\nhaz cumplido 3 anios\nhaz cumplido 4 anios\nhaz cumplido 5 anios\nhaz cumplido 6 anios\nhaz cumplido 7 anios\nhaz cumplido 8 anios\nhaz cumplido 9 anios\nhaz cumplido 10 anios\nhaz cumplido 11 anios\nhaz cumplido 12 anios\nhaz cumplido 13 anios\nhaz cumplido 14 anios\nhaz cumplido 15 anios\n"
    }
   ],
   "source": [
    "edad = int(input(\"Cual es tu edad\"))\n",
    "for i in range (edad):\n",
    "    print('haz cumplido', str(i+1), 'anios')\n",
    "    i+=1\n"
   ]
  },
  {
   "cell_type": "code",
   "execution_count": null,
   "metadata": {},
   "outputs": [],
   "source": []
  }
 ],
 "metadata": {
  "language_info": {
   "codemirror_mode": {
    "name": "ipython",
    "version": 3
   },
   "file_extension": ".py",
   "mimetype": "text/x-python",
   "name": "python",
   "nbconvert_exporter": "python",
   "pygments_lexer": "ipython3",
   "version": 3
  },
  "orig_nbformat": 2,
  "kernelspec": {
   "name": "python_defaultSpec_1612323879342",
   "display_name": "Python 3.8.7 64-bit"
  }
 },
 "nbformat": 4,
 "nbformat_minor": 2
}