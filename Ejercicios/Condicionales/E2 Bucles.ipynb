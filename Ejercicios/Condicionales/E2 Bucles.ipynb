{
 "cells": [
  {
   "cell_type": "markdown",
   "metadata": {},
   "source": [
    "Escribir un programa que pregunte al usuario su edad y muestre por pantalla si es mayor de edad o no."
   ]
  },
  {
   "cell_type": "code",
   "execution_count": 5,
   "metadata": {
    "tags": []
   },
   "outputs": [
    {
     "name": "stdout",
     "output_type": "stream",
     "text": [
      "No eres mayor de edad\n"
     ]
    }
   ],
   "source": [
    "edad = int(input(\"Ingresa tu edad: \"))\n",
    "if edad > 18:\n",
    "    print(\"Eres mayor de edad\")\n",
    "else:\n",
    "    print(\"No eres mayor de edad\")"
   ]
  },
  {
   "cell_type": "markdown",
   "metadata": {},
   "source": [
    "Escribir un programa que almacene la cadena de caracteres contraseña en una variable, pregunte al usuario por la contraseña e imprima por pantalla si la contraseña introducida por el usuario coincide con la guardada en la variable sin tener en cuenta mayúsculas y minúsculas."
   ]
  },
  {
   "cell_type": "code",
   "execution_count": 8,
   "metadata": {
    "tags": []
   },
   "outputs": [
    {
     "name": "stdout",
     "output_type": "stream",
     "text": [
      "Acceso concedido\n"
     ]
    }
   ],
   "source": [
    "key = \"pass\"\n",
    "password = input(\"Ingresa una contrasenia: \")\n",
    "if key == password.lower(): #Hace la excepcion si mayuscula o miniscula\n",
    "    print(\"Acceso concedido\")\n",
    "else:\n",
    "    print(\"Acceso denegado\")"
   ]
  },
  {
   "cell_type": "markdown",
   "metadata": {},
   "source": [
    "Escribir un programa que pida al usuario dos números y muestre por pantalla su división. Si el divisor es cero el programa debe mostrar un error."
   ]
  },
  {
   "cell_type": "code",
   "execution_count": 12,
   "metadata": {
    "tags": []
   },
   "outputs": [
    {
     "name": "stdout",
     "output_type": "stream",
     "text": [
      "Error, el divisor no puede ser 0\n"
     ]
    }
   ],
   "source": [
    "num1 = int(input('Ingrese el primer numero:'))\n",
    "num2 = int(input('Ingrese el segundo numero:'))\n",
    "\n",
    "if num1 == 0:\n",
    "    print('Error, el divisor no puede ser 0')\n",
    "else:\n",
    "    print(num1/num2)"
   ]
  },
  {
   "cell_type": "markdown",
   "metadata": {},
   "source": [
    "Escribir un programa que pida al usuario un número entero y muestre por pantalla si es par o impar."
   ]
  },
  {
   "cell_type": "code",
   "execution_count": 20,
   "metadata": {
    "tags": []
   },
   "outputs": [
    {
     "name": "stdout",
     "output_type": "stream",
     "text": [
      "El numero es impar\n"
     ]
    }
   ],
   "source": [
    "numEntero = int(input('Ingresa un numero para saber si es entero o no: '))\n",
    "if numEntero % 2 == 0:\n",
    "    print('El numero es par')\n",
    "else:\n",
    "    print('El numero es impar')"
   ]
  },
  {
   "cell_type": "markdown",
   "metadata": {},
   "source": [
    "Para tributar un determinado impuesto se debe ser mayor de 16 años y tener unos ingresos iguales o superiores a 1000 € mensuales. Escribir un programa que pregunte al usuario su edad y sus ingresos mensuales y muestre por pantalla si el usuario tiene que tributar o no."
   ]
  },
  {
   "cell_type": "code",
   "execution_count": 10,
   "metadata": {
    "tags": []
   },
   "outputs": [
    {
     "name": "stdout",
     "output_type": "stream",
     "text": [
      "Debes de tributar\n"
     ]
    }
   ],
   "source": [
    "ingresosSuperiores = int(1000)\n",
    "edadMayor = int(16)\n",
    "\n",
    "edad = int(input('Cual es su edad: '))\n",
    "ingresos = int(input('Cuales son sus ingresos: '))\n",
    "\n",
    "if edad >= edadMayor and ingresos >= ingresosSuperiores:\n",
    "    print('Debes de tributar')\n",
    "else:\n",
    "    print('Te salvaste')\n",
    "\n"
   ]
  },
  {
   "cell_type": "markdown",
   "metadata": {},
   "source": [
    "Los alumnos de un curso se han dividido en dos grupos A y B de acuerdo al sexo y el nombre. El grupo A esta formado por las mujeres con un nombre anterior a la M y los hombres con un nombre posterior a la N y el grupo B por el resto. Escribir un programa que pregunte al usuario su nombre y sexo, y muestre por pantalla el grupo que le corresponde."
   ]
  },
  {
   "cell_type": "code",
   "execution_count": 15,
   "metadata": {
    "tags": []
   },
   "outputs": [
    {
     "name": "stdout",
     "output_type": "stream",
     "text": [
      "Grupo A\n"
     ]
    }
   ],
   "source": [
    "sexo = input(\"Cual es tu sexo (F o M)\")\n",
    "nombre = input(\"Cual es tu nombre:\")\n",
    "\n",
    "if sexo.lower() == 'f' and nombre.lower() <= 'm':\n",
    "    print('Grupo A')\n",
    "elif sexo.lower() == 'm' and nombre.lower() >= 'n':\n",
    "    print('Grupo A')\n",
    "else:\n",
    "    print('Grupo B')\n",
    "\n"
   ]
  },
  {
   "cell_type": "markdown",
   "metadata": {},
   "source": [
    "Los tramos impositivos para la declaración de la renta en un determinado país son los siguientes:"
   ]
  },
  {
   "cell_type": "code",
   "execution_count": 1,
   "metadata": {
    "tags": []
   },
   "outputs": [
    {
     "name": "stdout",
     "output_type": "stream",
     "text": [
      "15%\n"
     ]
    }
   ],
   "source": [
    "rentaAnual = int(input('Ingrese su renta anual: '))\n",
    "\n",
    "if rentaAnual < 10000:\n",
    "    print('5%')\n",
    "elif rentaAnual >= 10000 and rentaAnual <= 20000:\n",
    "    print('15%')\n",
    "elif rentaAnual >= 20000 and rentaAnual <= 35000:\n",
    "    print('20%')\n",
    "elif rentaAnual >= 35000 and rentaAnual <= 60000:\n",
    "    print('30%')\n",
    "else:\n",
    "    print ('45%')"
   ]
  },
  {
   "cell_type": "code",
   "execution_count": null,
   "metadata": {},
   "outputs": [],
   "source": []
  },
  {
   "cell_type": "markdown",
   "metadata": {},
   "source": [
    "EJERCICIOS BUCLES"
   ]
  },
  {
   "cell_type": "markdown",
   "metadata": {},
   "source": [
    "Escribir un programa que pida al usuario una palabra y la muestre por pantalla 10 veces."
   ]
  },
  {
   "cell_type": "code",
   "execution_count": 8,
   "metadata": {
    "tags": []
   },
   "outputs": [
    {
     "output_type": "stream",
     "name": "stdout",
     "text": "Hola\nHola\nHola\nHola\nHola\nHola\nHola\nHola\nHola\nHola\n"
    }
   ],
   "source": [
    "palabra = input('Escriba una palabra:')\n",
    "for i in range (10):\n",
    "    print(palabra)"
   ]
  },
  {
   "cell_type": "markdown",
   "metadata": {},
   "source": [
    "Escribir un programa que pregunte al usuario su edad y muestre por pantalla todos los años que ha cumplido (desde 1 hasta su edad)."
   ]
  },
  {
   "cell_type": "code",
   "execution_count": 40,
   "metadata": {
    "tags": []
   },
   "outputs": [
    {
     "output_type": "stream",
     "name": "stdout",
     "text": "Haz cumplido 1 años\nHaz cumplido 2 años\nHaz cumplido 3 años\nHaz cumplido 4 años\nHaz cumplido 5 años\nHaz cumplido 6 años\nHaz cumplido 7 años\nHaz cumplido 8 años\nHaz cumplido 9 años\nHaz cumplido 10 años\nHaz cumplido 11 años\nHaz cumplido 12 años\nHaz cumplido 13 años\nHaz cumplido 14 años\nHaz cumplido 15 años\nHaz cumplido 16 años\nHaz cumplido 17 años\nHaz cumplido 18 años\nHaz cumplido 19 años\nHaz cumplido 20 años\nHaz cumplido 21 años\n"
    }
   ],
   "source": [
    "edad =int(input ('Ingrese su edad: '))\n",
    "for i in range (edad):\n",
    "    print('Haz cumplido', str(i+1), 'años')\n"
   ]
  },
  {
   "cell_type": "markdown",
   "metadata": {},
   "source": [
    "Escribir un programa que pida al usuario un número entero positivo y muestre por pantalla todos los números impares desde 1 hasta ese número separados por comas."
   ]
  },
  {
   "cell_type": "code",
   "execution_count": 94,
   "metadata": {
    "tags": []
   },
   "outputs": [
    {
     "output_type": "stream",
     "name": "stdout",
     "text": "1,3,5,7,9,11,13,15,17,19,"
    }
   ],
   "source": [
    "numeroPos = int(input('Ingresa un numero positivo:'))\n",
    "for i in range (numeroPos):\n",
    "    if i%2==1:\n",
    "        print(i, end=',')"
   ]
  },
  {
   "cell_type": "markdown",
   "metadata": {},
   "source": [
    "Escribir un programa que pregunte al usuario una cantidad a invertir, el interés anual y el número de años, y muestre por pantalla el capital obtenido en la inversión cada año que dura la inversión."
   ]
  },
  {
   "cell_type": "code",
   "execution_count": 108,
   "metadata": {
    "tags": []
   },
   "outputs": [
    {
     "output_type": "stream",
     "name": "stdout",
     "text": "1771561000.0\n"
    }
   ],
   "source": [
    "cantInvertir = float(input('Ingrese la cabtidad a invertir:'))\n",
    "interesAnual = float(input('Ingrese el interes anual: '))\n",
    "numAnios = float(input('Ingrese el numero de anios'))\n",
    "capFin = cantInvertir * (1 + interesAnual)**numAnios\n",
    "print(capFin)\n"
   ]
  },
  {
   "cell_type": "code",
   "execution_count": null,
   "metadata": {},
   "outputs": [],
   "source": [
    "¿Cantidad a invertir?  1000\n",
    "¿Interés porcentual anual?  10\n",
    "¿Años? 5\n",
    "Capital tras 1 años: 1100.0\n",
    "Capital tras 2 años: 1210.0\n",
    "Capital tras 3 años: 1331.0\n",
    "Capital tras 4 años: 1464.1\n",
    "Capital tras 5 años: 1610.51"
   ]
  },
  {
   "cell_type": "code",
   "execution_count": 114,
   "metadata": {
    "tags": []
   },
   "outputs": [
    {
     "output_type": "stream",
     "name": "stdout",
     "text": "Not Weird\n"
    }
   ],
   "source": [
    "n = int(input())\n",
    "if n>=2 and n<=5:\n",
    "    print('Not Weird')\n",
    "elif n>=6 and n<=20:\n",
    "    print('Weird')\n",
    "elif n>=20:\n",
    "    print('Not Weird')"
   ]
  },
  {
   "cell_type": "code",
   "execution_count": null,
   "metadata": {},
   "outputs": [],
   "source": []
  },
  {
   "cell_type": "code",
   "execution_count": null,
   "metadata": {},
   "outputs": [],
   "source": []
  }
 ],
 "metadata": {
  "kernelspec": {
   "display_name": "Python 3",
   "language": "python",
   "name": "python3"
  },
  "language_info": {
   "codemirror_mode": {
    "name": "ipython",
    "version": 3
   },
   "file_extension": ".py",
   "mimetype": "text/x-python",
   "name": "python",
   "nbconvert_exporter": "python",
   "pygments_lexer": "ipython3",
   "version": "3.7.9"
  }
 },
 "nbformat": 4,
 "nbformat_minor": 4
}